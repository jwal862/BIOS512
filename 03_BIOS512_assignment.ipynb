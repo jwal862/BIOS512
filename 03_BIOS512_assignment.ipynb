{
 "cells": [
  {
   "cell_type": "markdown",
   "id": "e9216b63-c18a-4c9b-beff-4b6b2e1b6964",
   "metadata": {},
   "source": [
    "# BIOS512 Assignment #3"
   ]
  },
  {
   "cell_type": "markdown",
   "id": "4403015e-d27f-473c-8720-088ac6db57c9",
   "metadata": {},
   "source": [
    "Import the 📈Tidyverse into your `R` session"
   ]
  },
  {
   "cell_type": "code",
   "execution_count": 1,
   "id": "2cb997c6-b57c-4198-aa5c-8be897467c7c",
   "metadata": {
    "tags": []
   },
   "outputs": [
    {
     "name": "stderr",
     "output_type": "stream",
     "text": [
      "Warning message:\n",
      "“Failed to locate timezone database”\n",
      "── \u001b[1mAttaching core tidyverse packages\u001b[22m ──────────────────────── tidyverse 2.0.0 ──\n",
      "\u001b[32m✔\u001b[39m \u001b[34mdplyr    \u001b[39m 1.1.3     \u001b[32m✔\u001b[39m \u001b[34mreadr    \u001b[39m 2.1.4\n",
      "\u001b[32m✔\u001b[39m \u001b[34mforcats  \u001b[39m 1.0.0     \u001b[32m✔\u001b[39m \u001b[34mstringr  \u001b[39m 1.5.0\n",
      "\u001b[32m✔\u001b[39m \u001b[34mggplot2  \u001b[39m 3.4.3     \u001b[32m✔\u001b[39m \u001b[34mtibble   \u001b[39m 3.2.1\n",
      "\u001b[32m✔\u001b[39m \u001b[34mlubridate\u001b[39m 1.9.2     \u001b[32m✔\u001b[39m \u001b[34mtidyr    \u001b[39m 1.3.0\n",
      "\u001b[32m✔\u001b[39m \u001b[34mpurrr    \u001b[39m 1.0.2     \n",
      "── \u001b[1mConflicts\u001b[22m ────────────────────────────────────────── tidyverse_conflicts() ──\n",
      "\u001b[31m✖\u001b[39m \u001b[34mdplyr\u001b[39m::\u001b[32mfilter()\u001b[39m masks \u001b[34mstats\u001b[39m::filter()\n",
      "\u001b[31m✖\u001b[39m \u001b[34mdplyr\u001b[39m::\u001b[32mlag()\u001b[39m    masks \u001b[34mstats\u001b[39m::lag()\n",
      "\u001b[36mℹ\u001b[39m Use the conflicted package (\u001b[3m\u001b[34m<http://conflicted.r-lib.org/>\u001b[39m\u001b[23m) to force all conflicts to become errors\n"
     ]
    }
   ],
   "source": [
    "library('tidyverse')"
   ]
  },
  {
   "cell_type": "markdown",
   "id": "47ccf7f6-01c6-46b4-94a1-f8dcd8ef8377",
   "metadata": {},
   "source": [
    "In this assignment we'll be using data from the [TidyTuesday Project](https://github.com/rfordatascience/tidytuesday). Specifically, we'll investigate vaccination rates at US schools. A `CSV` file of the data is located at:  \n",
    "\n",
    "[https://github.com/rfordatascience/tidytuesday/blob/master/data/2020/2020-02-25/measles.csv](https://github.com/rfordatascience/tidytuesday/blob/master/data/2020/2020-02-25/measles.csv)\n",
    "\n",
    "Get the \"raw\" data URL and import it into your `R` session using `read_csv`. Remember to capture the data under a variable name of your choosing!"
   ]
  },
  {
   "cell_type": "code",
   "execution_count": 2,
   "id": "8de37571-29da-4393-b1eb-ca13fcd70fed",
   "metadata": {
    "tags": []
   },
   "outputs": [
    {
     "name": "stderr",
     "output_type": "stream",
     "text": [
      "\u001b[1mRows: \u001b[22m\u001b[34m66113\u001b[39m \u001b[1mColumns: \u001b[22m\u001b[34m16\u001b[39m\n",
      "\u001b[36m──\u001b[39m \u001b[1mColumn specification\u001b[22m \u001b[36m────────────────────────────────────────────────────────\u001b[39m\n",
      "\u001b[1mDelimiter:\u001b[22m \",\"\n",
      "\u001b[31mchr\u001b[39m (6): state, year, name, type, city, county\n",
      "\u001b[32mdbl\u001b[39m (8): index, enroll, mmr, overall, xmed, xper, lat, lng\n",
      "\u001b[33mlgl\u001b[39m (2): district, xrel\n",
      "\n",
      "\u001b[36mℹ\u001b[39m Use `spec()` to retrieve the full column specification for this data.\n",
      "\u001b[36mℹ\u001b[39m Specify the column types or set `show_col_types = FALSE` to quiet this message.\n"
     ]
    }
   ],
   "source": [
    "vax = read_csv(\"https://raw.githubusercontent.com/rfordatascience/tidytuesday/master/data/2020/2020-02-25/measles.csv\")"
   ]
  },
  {
   "cell_type": "code",
   "execution_count": 3,
   "id": "b8e42b3a-f1d4-4374-8b41-b56dc5c09875",
   "metadata": {
    "tags": []
   },
   "outputs": [
    {
     "data": {
      "text/html": [
       "<table class=\"dataframe\">\n",
       "<caption>A tibble: 6 × 16</caption>\n",
       "<thead>\n",
       "\t<tr><th scope=col>index</th><th scope=col>state</th><th scope=col>year</th><th scope=col>name</th><th scope=col>type</th><th scope=col>city</th><th scope=col>county</th><th scope=col>district</th><th scope=col>enroll</th><th scope=col>mmr</th><th scope=col>overall</th><th scope=col>xrel</th><th scope=col>xmed</th><th scope=col>xper</th><th scope=col>lat</th><th scope=col>lng</th></tr>\n",
       "\t<tr><th scope=col>&lt;dbl&gt;</th><th scope=col>&lt;chr&gt;</th><th scope=col>&lt;chr&gt;</th><th scope=col>&lt;chr&gt;</th><th scope=col>&lt;chr&gt;</th><th scope=col>&lt;chr&gt;</th><th scope=col>&lt;chr&gt;</th><th scope=col>&lt;lgl&gt;</th><th scope=col>&lt;dbl&gt;</th><th scope=col>&lt;dbl&gt;</th><th scope=col>&lt;dbl&gt;</th><th scope=col>&lt;lgl&gt;</th><th scope=col>&lt;dbl&gt;</th><th scope=col>&lt;dbl&gt;</th><th scope=col>&lt;dbl&gt;</th><th scope=col>&lt;dbl&gt;</th></tr>\n",
       "</thead>\n",
       "<tbody>\n",
       "\t<tr><td>1</td><td>Arizona</td><td>2018-19</td><td>A J Mitchell Elementary                 </td><td>Public </td><td>Nogales</td><td>Santa Cruz</td><td>NA</td><td>51</td><td>100</td><td>-1</td><td>NA</td><td>  NA</td><td>  NA</td><td>31.34782</td><td>-110.9380</td></tr>\n",
       "\t<tr><td>2</td><td>Arizona</td><td>2018-19</td><td>Academy Del Sol                         </td><td>Charter</td><td>Tucson </td><td>Pima      </td><td>NA</td><td>22</td><td>100</td><td>-1</td><td>NA</td><td>  NA</td><td>  NA</td><td>32.22192</td><td>-110.8961</td></tr>\n",
       "\t<tr><td>3</td><td>Arizona</td><td>2018-19</td><td>Academy Del Sol - Hope                  </td><td>Charter</td><td>Tucson </td><td>Pima      </td><td>NA</td><td>85</td><td>100</td><td>-1</td><td>NA</td><td>  NA</td><td>  NA</td><td>32.13049</td><td>-111.1170</td></tr>\n",
       "\t<tr><td>4</td><td>Arizona</td><td>2018-19</td><td>Academy Of Mathematics And Science South</td><td>Charter</td><td>Phoenix</td><td>Maricopa  </td><td>NA</td><td>60</td><td>100</td><td>-1</td><td>NA</td><td>  NA</td><td>  NA</td><td>33.48545</td><td>-112.1306</td></tr>\n",
       "\t<tr><td>5</td><td>Arizona</td><td>2018-19</td><td>Acclaim Academy                         </td><td>Charter</td><td>Phoenix</td><td>Maricopa  </td><td>NA</td><td>43</td><td>100</td><td>-1</td><td>NA</td><td>2.33</td><td>2.33</td><td>33.49562</td><td>-112.2247</td></tr>\n",
       "\t<tr><td>6</td><td>Arizona</td><td>2018-19</td><td>Alfred F Garcia                         </td><td>Public </td><td>Phoenix</td><td>Maricopa  </td><td>NA</td><td>36</td><td>100</td><td>-1</td><td>NA</td><td>  NA</td><td>  NA</td><td>33.43532</td><td>-112.1168</td></tr>\n",
       "</tbody>\n",
       "</table>\n"
      ],
      "text/latex": [
       "A tibble: 6 × 16\n",
       "\\begin{tabular}{llllllllllllllll}\n",
       " index & state & year & name & type & city & county & district & enroll & mmr & overall & xrel & xmed & xper & lat & lng\\\\\n",
       " <dbl> & <chr> & <chr> & <chr> & <chr> & <chr> & <chr> & <lgl> & <dbl> & <dbl> & <dbl> & <lgl> & <dbl> & <dbl> & <dbl> & <dbl>\\\\\n",
       "\\hline\n",
       "\t 1 & Arizona & 2018-19 & A J Mitchell Elementary                  & Public  & Nogales & Santa Cruz & NA & 51 & 100 & -1 & NA &   NA &   NA & 31.34782 & -110.9380\\\\\n",
       "\t 2 & Arizona & 2018-19 & Academy Del Sol                          & Charter & Tucson  & Pima       & NA & 22 & 100 & -1 & NA &   NA &   NA & 32.22192 & -110.8961\\\\\n",
       "\t 3 & Arizona & 2018-19 & Academy Del Sol - Hope                   & Charter & Tucson  & Pima       & NA & 85 & 100 & -1 & NA &   NA &   NA & 32.13049 & -111.1170\\\\\n",
       "\t 4 & Arizona & 2018-19 & Academy Of Mathematics And Science South & Charter & Phoenix & Maricopa   & NA & 60 & 100 & -1 & NA &   NA &   NA & 33.48545 & -112.1306\\\\\n",
       "\t 5 & Arizona & 2018-19 & Acclaim Academy                          & Charter & Phoenix & Maricopa   & NA & 43 & 100 & -1 & NA & 2.33 & 2.33 & 33.49562 & -112.2247\\\\\n",
       "\t 6 & Arizona & 2018-19 & Alfred F Garcia                          & Public  & Phoenix & Maricopa   & NA & 36 & 100 & -1 & NA &   NA &   NA & 33.43532 & -112.1168\\\\\n",
       "\\end{tabular}\n"
      ],
      "text/markdown": [
       "\n",
       "A tibble: 6 × 16\n",
       "\n",
       "| index &lt;dbl&gt; | state &lt;chr&gt; | year &lt;chr&gt; | name &lt;chr&gt; | type &lt;chr&gt; | city &lt;chr&gt; | county &lt;chr&gt; | district &lt;lgl&gt; | enroll &lt;dbl&gt; | mmr &lt;dbl&gt; | overall &lt;dbl&gt; | xrel &lt;lgl&gt; | xmed &lt;dbl&gt; | xper &lt;dbl&gt; | lat &lt;dbl&gt; | lng &lt;dbl&gt; |\n",
       "|---|---|---|---|---|---|---|---|---|---|---|---|---|---|---|---|\n",
       "| 1 | Arizona | 2018-19 | A J Mitchell Elementary                  | Public  | Nogales | Santa Cruz | NA | 51 | 100 | -1 | NA |   NA |   NA | 31.34782 | -110.9380 |\n",
       "| 2 | Arizona | 2018-19 | Academy Del Sol                          | Charter | Tucson  | Pima       | NA | 22 | 100 | -1 | NA |   NA |   NA | 32.22192 | -110.8961 |\n",
       "| 3 | Arizona | 2018-19 | Academy Del Sol - Hope                   | Charter | Tucson  | Pima       | NA | 85 | 100 | -1 | NA |   NA |   NA | 32.13049 | -111.1170 |\n",
       "| 4 | Arizona | 2018-19 | Academy Of Mathematics And Science South | Charter | Phoenix | Maricopa   | NA | 60 | 100 | -1 | NA |   NA |   NA | 33.48545 | -112.1306 |\n",
       "| 5 | Arizona | 2018-19 | Acclaim Academy                          | Charter | Phoenix | Maricopa   | NA | 43 | 100 | -1 | NA | 2.33 | 2.33 | 33.49562 | -112.2247 |\n",
       "| 6 | Arizona | 2018-19 | Alfred F Garcia                          | Public  | Phoenix | Maricopa   | NA | 36 | 100 | -1 | NA |   NA |   NA | 33.43532 | -112.1168 |\n",
       "\n"
      ],
      "text/plain": [
       "  index state   year    name                                     type   \n",
       "1 1     Arizona 2018-19 A J Mitchell Elementary                  Public \n",
       "2 2     Arizona 2018-19 Academy Del Sol                          Charter\n",
       "3 3     Arizona 2018-19 Academy Del Sol - Hope                   Charter\n",
       "4 4     Arizona 2018-19 Academy Of Mathematics And Science South Charter\n",
       "5 5     Arizona 2018-19 Acclaim Academy                          Charter\n",
       "6 6     Arizona 2018-19 Alfred F Garcia                          Public \n",
       "  city    county     district enroll mmr overall xrel xmed xper lat     \n",
       "1 Nogales Santa Cruz NA       51     100 -1      NA     NA   NA 31.34782\n",
       "2 Tucson  Pima       NA       22     100 -1      NA     NA   NA 32.22192\n",
       "3 Tucson  Pima       NA       85     100 -1      NA     NA   NA 32.13049\n",
       "4 Phoenix Maricopa   NA       60     100 -1      NA     NA   NA 33.48545\n",
       "5 Phoenix Maricopa   NA       43     100 -1      NA   2.33 2.33 33.49562\n",
       "6 Phoenix Maricopa   NA       36     100 -1      NA     NA   NA 33.43532\n",
       "  lng      \n",
       "1 -110.9380\n",
       "2 -110.8961\n",
       "3 -111.1170\n",
       "4 -112.1306\n",
       "5 -112.2247\n",
       "6 -112.1168"
      ]
     },
     "metadata": {},
     "output_type": "display_data"
    }
   ],
   "source": [
    "head(vax)"
   ]
  },
  {
   "cell_type": "markdown",
   "id": "feb89cec-8cda-457d-95cf-89dbfa932ab4",
   "metadata": {},
   "source": [
    "The `mmr` column has holds 🤒 measles, mumps, rubella 🤒 vaccination rates for students in each respective school. **If the `mmr` value is not available for a school the `mmr` value is set to -1 in this data set.** \n",
    "\n",
    "The target `mmr` vaccination rate as [recommended by the CDC](https://www.cdc.gov/mmwr/preview/mmwrhtml/mm5632a3.htm) for schools is 95%. \n",
    "\n",
    "**Calculate the fraction of schools per state that have vaccination rates greater than the CDC 95%. Capture the output as a table called `df_vacc_rates`.**\n",
    "\n",
    "You'll need to do use `filter`, `group_by`, and `summarize`. \n",
    "\n",
    "I.e.\n",
    "1. Filter out schools that don't report `mmr` vaccination rate (keep schools where `mmr >= 0`).\n",
    "1. Group the data by `state`.\n",
    "1. Summarize fracion of vaccination rates above 95%.\n",
    "\n",
    "💡Remember `n()` stands for the number or records in a group. Also, `sum(mmr >= 95, na.rm=TRUE)` will count the number of values above or equal to 95.💡"
   ]
  },
  {
   "cell_type": "code",
   "execution_count": 42,
   "id": "0ba9a861-00fc-4392-a67d-cddbd5a994e0",
   "metadata": {
    "tags": []
   },
   "outputs": [
    {
     "name": "stderr",
     "output_type": "stream",
     "text": [
      "Warning message:\n",
      "“\u001b[1m\u001b[22mReturning more (or less) than 1 row per `summarise()` group was deprecated in\n",
      "dplyr 1.1.0.\n",
      "\u001b[36mℹ\u001b[39m Please use `reframe()` instead.\n",
      "\u001b[36mℹ\u001b[39m When switching from `summarise()` to `reframe()`, remember that `reframe()`\n",
      "  always returns an ungrouped data frame and adjust accordingly.”\n",
      "\u001b[1m\u001b[22m`summarise()` has grouped output by 'state'. You can override using the\n",
      "`.groups` argument.\n"
     ]
    },
    {
     "data": {
      "text/html": [
       "<table class=\"dataframe\">\n",
       "<caption>A grouped_df: 44157 × 2</caption>\n",
       "<thead>\n",
       "\t<tr><th scope=col>state</th><th scope=col>fraction</th></tr>\n",
       "\t<tr><th scope=col>&lt;chr&gt;</th><th scope=col>&lt;dbl&gt;</th></tr>\n",
       "</thead>\n",
       "<tbody>\n",
       "\t<tr><td>Arizona</td><td>0.5064048</td></tr>\n",
       "\t<tr><td>Arizona</td><td>0.5064048</td></tr>\n",
       "\t<tr><td>Arizona</td><td>0.5064048</td></tr>\n",
       "\t<tr><td>Arizona</td><td>0.5064048</td></tr>\n",
       "\t<tr><td>Arizona</td><td>0.5064048</td></tr>\n",
       "\t<tr><td>Arizona</td><td>0.5064048</td></tr>\n",
       "\t<tr><td>Arizona</td><td>0.5064048</td></tr>\n",
       "\t<tr><td>Arizona</td><td>0.5064048</td></tr>\n",
       "\t<tr><td>Arizona</td><td>0.5064048</td></tr>\n",
       "\t<tr><td>Arizona</td><td>0.5064048</td></tr>\n",
       "\t<tr><td>Arizona</td><td>0.5064048</td></tr>\n",
       "\t<tr><td>Arizona</td><td>0.5064048</td></tr>\n",
       "\t<tr><td>Arizona</td><td>0.5064048</td></tr>\n",
       "\t<tr><td>Arizona</td><td>0.5064048</td></tr>\n",
       "\t<tr><td>Arizona</td><td>0.5064048</td></tr>\n",
       "\t<tr><td>Arizona</td><td>0.5064048</td></tr>\n",
       "\t<tr><td>Arizona</td><td>0.5064048</td></tr>\n",
       "\t<tr><td>Arizona</td><td>0.5064048</td></tr>\n",
       "\t<tr><td>Arizona</td><td>0.5064048</td></tr>\n",
       "\t<tr><td>Arizona</td><td>0.5064048</td></tr>\n",
       "\t<tr><td>Arizona</td><td>0.5064048</td></tr>\n",
       "\t<tr><td>Arizona</td><td>0.5064048</td></tr>\n",
       "\t<tr><td>Arizona</td><td>0.5064048</td></tr>\n",
       "\t<tr><td>Arizona</td><td>0.5064048</td></tr>\n",
       "\t<tr><td>Arizona</td><td>0.5064048</td></tr>\n",
       "\t<tr><td>Arizona</td><td>0.5064048</td></tr>\n",
       "\t<tr><td>Arizona</td><td>0.5064048</td></tr>\n",
       "\t<tr><td>Arizona</td><td>0.5064048</td></tr>\n",
       "\t<tr><td>Arizona</td><td>0.5064048</td></tr>\n",
       "\t<tr><td>Arizona</td><td>0.5064048</td></tr>\n",
       "\t<tr><td>⋮</td><td>⋮</td></tr>\n",
       "\t<tr><td>Washington</td><td>0.3265925</td></tr>\n",
       "\t<tr><td>Washington</td><td>0.3265925</td></tr>\n",
       "\t<tr><td>Washington</td><td>0.3265925</td></tr>\n",
       "\t<tr><td>Washington</td><td>0.3265925</td></tr>\n",
       "\t<tr><td>Washington</td><td>0.3265925</td></tr>\n",
       "\t<tr><td>Washington</td><td>0.3265925</td></tr>\n",
       "\t<tr><td>Washington</td><td>0.3265925</td></tr>\n",
       "\t<tr><td>Washington</td><td>0.3265925</td></tr>\n",
       "\t<tr><td>Washington</td><td>0.3265925</td></tr>\n",
       "\t<tr><td>Washington</td><td>0.3265925</td></tr>\n",
       "\t<tr><td>Washington</td><td>0.3265925</td></tr>\n",
       "\t<tr><td>Washington</td><td>0.3265925</td></tr>\n",
       "\t<tr><td>Washington</td><td>0.3265925</td></tr>\n",
       "\t<tr><td>Washington</td><td>0.3265925</td></tr>\n",
       "\t<tr><td>Washington</td><td>0.3265925</td></tr>\n",
       "\t<tr><td>Washington</td><td>0.3265925</td></tr>\n",
       "\t<tr><td>Washington</td><td>0.3265925</td></tr>\n",
       "\t<tr><td>Washington</td><td>0.3265925</td></tr>\n",
       "\t<tr><td>Washington</td><td>0.3265925</td></tr>\n",
       "\t<tr><td>Washington</td><td>0.3265925</td></tr>\n",
       "\t<tr><td>Washington</td><td>0.3265925</td></tr>\n",
       "\t<tr><td>Washington</td><td>0.3265925</td></tr>\n",
       "\t<tr><td>Washington</td><td>0.3265925</td></tr>\n",
       "\t<tr><td>Washington</td><td>0.3265925</td></tr>\n",
       "\t<tr><td>Washington</td><td>0.3265925</td></tr>\n",
       "\t<tr><td>Washington</td><td>0.3265925</td></tr>\n",
       "\t<tr><td>Washington</td><td>0.3265925</td></tr>\n",
       "\t<tr><td>Washington</td><td>0.3265925</td></tr>\n",
       "\t<tr><td>Washington</td><td>0.3265925</td></tr>\n",
       "\t<tr><td>Washington</td><td>0.3265925</td></tr>\n",
       "</tbody>\n",
       "</table>\n"
      ],
      "text/latex": [
       "A grouped\\_df: 44157 × 2\n",
       "\\begin{tabular}{ll}\n",
       " state & fraction\\\\\n",
       " <chr> & <dbl>\\\\\n",
       "\\hline\n",
       "\t Arizona & 0.5064048\\\\\n",
       "\t Arizona & 0.5064048\\\\\n",
       "\t Arizona & 0.5064048\\\\\n",
       "\t Arizona & 0.5064048\\\\\n",
       "\t Arizona & 0.5064048\\\\\n",
       "\t Arizona & 0.5064048\\\\\n",
       "\t Arizona & 0.5064048\\\\\n",
       "\t Arizona & 0.5064048\\\\\n",
       "\t Arizona & 0.5064048\\\\\n",
       "\t Arizona & 0.5064048\\\\\n",
       "\t Arizona & 0.5064048\\\\\n",
       "\t Arizona & 0.5064048\\\\\n",
       "\t Arizona & 0.5064048\\\\\n",
       "\t Arizona & 0.5064048\\\\\n",
       "\t Arizona & 0.5064048\\\\\n",
       "\t Arizona & 0.5064048\\\\\n",
       "\t Arizona & 0.5064048\\\\\n",
       "\t Arizona & 0.5064048\\\\\n",
       "\t Arizona & 0.5064048\\\\\n",
       "\t Arizona & 0.5064048\\\\\n",
       "\t Arizona & 0.5064048\\\\\n",
       "\t Arizona & 0.5064048\\\\\n",
       "\t Arizona & 0.5064048\\\\\n",
       "\t Arizona & 0.5064048\\\\\n",
       "\t Arizona & 0.5064048\\\\\n",
       "\t Arizona & 0.5064048\\\\\n",
       "\t Arizona & 0.5064048\\\\\n",
       "\t Arizona & 0.5064048\\\\\n",
       "\t Arizona & 0.5064048\\\\\n",
       "\t Arizona & 0.5064048\\\\\n",
       "\t ⋮ & ⋮\\\\\n",
       "\t Washington & 0.3265925\\\\\n",
       "\t Washington & 0.3265925\\\\\n",
       "\t Washington & 0.3265925\\\\\n",
       "\t Washington & 0.3265925\\\\\n",
       "\t Washington & 0.3265925\\\\\n",
       "\t Washington & 0.3265925\\\\\n",
       "\t Washington & 0.3265925\\\\\n",
       "\t Washington & 0.3265925\\\\\n",
       "\t Washington & 0.3265925\\\\\n",
       "\t Washington & 0.3265925\\\\\n",
       "\t Washington & 0.3265925\\\\\n",
       "\t Washington & 0.3265925\\\\\n",
       "\t Washington & 0.3265925\\\\\n",
       "\t Washington & 0.3265925\\\\\n",
       "\t Washington & 0.3265925\\\\\n",
       "\t Washington & 0.3265925\\\\\n",
       "\t Washington & 0.3265925\\\\\n",
       "\t Washington & 0.3265925\\\\\n",
       "\t Washington & 0.3265925\\\\\n",
       "\t Washington & 0.3265925\\\\\n",
       "\t Washington & 0.3265925\\\\\n",
       "\t Washington & 0.3265925\\\\\n",
       "\t Washington & 0.3265925\\\\\n",
       "\t Washington & 0.3265925\\\\\n",
       "\t Washington & 0.3265925\\\\\n",
       "\t Washington & 0.3265925\\\\\n",
       "\t Washington & 0.3265925\\\\\n",
       "\t Washington & 0.3265925\\\\\n",
       "\t Washington & 0.3265925\\\\\n",
       "\t Washington & 0.3265925\\\\\n",
       "\\end{tabular}\n"
      ],
      "text/markdown": [
       "\n",
       "A grouped_df: 44157 × 2\n",
       "\n",
       "| state &lt;chr&gt; | fraction &lt;dbl&gt; |\n",
       "|---|---|\n",
       "| Arizona | 0.5064048 |\n",
       "| Arizona | 0.5064048 |\n",
       "| Arizona | 0.5064048 |\n",
       "| Arizona | 0.5064048 |\n",
       "| Arizona | 0.5064048 |\n",
       "| Arizona | 0.5064048 |\n",
       "| Arizona | 0.5064048 |\n",
       "| Arizona | 0.5064048 |\n",
       "| Arizona | 0.5064048 |\n",
       "| Arizona | 0.5064048 |\n",
       "| Arizona | 0.5064048 |\n",
       "| Arizona | 0.5064048 |\n",
       "| Arizona | 0.5064048 |\n",
       "| Arizona | 0.5064048 |\n",
       "| Arizona | 0.5064048 |\n",
       "| Arizona | 0.5064048 |\n",
       "| Arizona | 0.5064048 |\n",
       "| Arizona | 0.5064048 |\n",
       "| Arizona | 0.5064048 |\n",
       "| Arizona | 0.5064048 |\n",
       "| Arizona | 0.5064048 |\n",
       "| Arizona | 0.5064048 |\n",
       "| Arizona | 0.5064048 |\n",
       "| Arizona | 0.5064048 |\n",
       "| Arizona | 0.5064048 |\n",
       "| Arizona | 0.5064048 |\n",
       "| Arizona | 0.5064048 |\n",
       "| Arizona | 0.5064048 |\n",
       "| Arizona | 0.5064048 |\n",
       "| Arizona | 0.5064048 |\n",
       "| ⋮ | ⋮ |\n",
       "| Washington | 0.3265925 |\n",
       "| Washington | 0.3265925 |\n",
       "| Washington | 0.3265925 |\n",
       "| Washington | 0.3265925 |\n",
       "| Washington | 0.3265925 |\n",
       "| Washington | 0.3265925 |\n",
       "| Washington | 0.3265925 |\n",
       "| Washington | 0.3265925 |\n",
       "| Washington | 0.3265925 |\n",
       "| Washington | 0.3265925 |\n",
       "| Washington | 0.3265925 |\n",
       "| Washington | 0.3265925 |\n",
       "| Washington | 0.3265925 |\n",
       "| Washington | 0.3265925 |\n",
       "| Washington | 0.3265925 |\n",
       "| Washington | 0.3265925 |\n",
       "| Washington | 0.3265925 |\n",
       "| Washington | 0.3265925 |\n",
       "| Washington | 0.3265925 |\n",
       "| Washington | 0.3265925 |\n",
       "| Washington | 0.3265925 |\n",
       "| Washington | 0.3265925 |\n",
       "| Washington | 0.3265925 |\n",
       "| Washington | 0.3265925 |\n",
       "| Washington | 0.3265925 |\n",
       "| Washington | 0.3265925 |\n",
       "| Washington | 0.3265925 |\n",
       "| Washington | 0.3265925 |\n",
       "| Washington | 0.3265925 |\n",
       "| Washington | 0.3265925 |\n",
       "\n"
      ],
      "text/plain": [
       "      state      fraction \n",
       "1     Arizona    0.5064048\n",
       "2     Arizona    0.5064048\n",
       "3     Arizona    0.5064048\n",
       "4     Arizona    0.5064048\n",
       "5     Arizona    0.5064048\n",
       "6     Arizona    0.5064048\n",
       "7     Arizona    0.5064048\n",
       "8     Arizona    0.5064048\n",
       "9     Arizona    0.5064048\n",
       "10    Arizona    0.5064048\n",
       "11    Arizona    0.5064048\n",
       "12    Arizona    0.5064048\n",
       "13    Arizona    0.5064048\n",
       "14    Arizona    0.5064048\n",
       "15    Arizona    0.5064048\n",
       "16    Arizona    0.5064048\n",
       "17    Arizona    0.5064048\n",
       "18    Arizona    0.5064048\n",
       "19    Arizona    0.5064048\n",
       "20    Arizona    0.5064048\n",
       "21    Arizona    0.5064048\n",
       "22    Arizona    0.5064048\n",
       "23    Arizona    0.5064048\n",
       "24    Arizona    0.5064048\n",
       "25    Arizona    0.5064048\n",
       "26    Arizona    0.5064048\n",
       "27    Arizona    0.5064048\n",
       "28    Arizona    0.5064048\n",
       "29    Arizona    0.5064048\n",
       "30    Arizona    0.5064048\n",
       "⋮     ⋮          ⋮        \n",
       "44128 Washington 0.3265925\n",
       "44129 Washington 0.3265925\n",
       "44130 Washington 0.3265925\n",
       "44131 Washington 0.3265925\n",
       "44132 Washington 0.3265925\n",
       "44133 Washington 0.3265925\n",
       "44134 Washington 0.3265925\n",
       "44135 Washington 0.3265925\n",
       "44136 Washington 0.3265925\n",
       "44137 Washington 0.3265925\n",
       "44138 Washington 0.3265925\n",
       "44139 Washington 0.3265925\n",
       "44140 Washington 0.3265925\n",
       "44141 Washington 0.3265925\n",
       "44142 Washington 0.3265925\n",
       "44143 Washington 0.3265925\n",
       "44144 Washington 0.3265925\n",
       "44145 Washington 0.3265925\n",
       "44146 Washington 0.3265925\n",
       "44147 Washington 0.3265925\n",
       "44148 Washington 0.3265925\n",
       "44149 Washington 0.3265925\n",
       "44150 Washington 0.3265925\n",
       "44151 Washington 0.3265925\n",
       "44152 Washington 0.3265925\n",
       "44153 Washington 0.3265925\n",
       "44154 Washington 0.3265925\n",
       "44155 Washington 0.3265925\n",
       "44156 Washington 0.3265925\n",
       "44157 Washington 0.3265925"
      ]
     },
     "metadata": {},
     "output_type": "display_data"
    }
   ],
   "source": [
    "# create the df_vacc_rates here\n",
    "df_vacc_rates = data.frame(vax) |>\n",
    "    filter(mmr >= 0) |>\n",
    "    group_by(state) |>\n",
    "    mutate(goal_rate = sum(mmr >= 95, na.rm = TRUE)) |>\n",
    "    mutate(fraction = goal_rate / n()) |>\n",
    "    summarize(fraction)\n",
    "\n",
    "df_vacc_rates"
   ]
  },
  {
   "cell_type": "markdown",
   "id": "900ddf7f-d801-4a70-9453-73bdd3277344",
   "metadata": {},
   "source": [
    "Which state (of those that report `mmr`) has the smallest fraction of schools above the CDC target vaccination rate of 95%?  "
   ]
  },
  {
   "cell_type": "code",
   "execution_count": 65,
   "id": "13812611-a534-46c2-aae6-0f6c645273e0",
   "metadata": {},
   "outputs": [
    {
     "data": {
      "text/html": [
       "<table class=\"dataframe\">\n",
       "<caption>A tibble: 21 × 2</caption>\n",
       "<thead>\n",
       "\t<tr><th scope=col>state</th><th scope=col>state_rate</th></tr>\n",
       "\t<tr><th scope=col>&lt;chr&gt;</th><th scope=col>&lt;dbl&gt;</th></tr>\n",
       "</thead>\n",
       "<tbody>\n",
       "\t<tr><td>Illinois     </td><td>0.896825397</td></tr>\n",
       "\t<tr><td>California   </td><td>0.888506151</td></tr>\n",
       "\t<tr><td>Massachusetts</td><td>0.865828092</td></tr>\n",
       "\t<tr><td>New York     </td><td>0.859822073</td></tr>\n",
       "\t<tr><td>Pennsylvania </td><td>0.834966478</td></tr>\n",
       "\t<tr><td>Connecticut  </td><td>0.811544992</td></tr>\n",
       "\t<tr><td>South Dakota </td><td>0.742627346</td></tr>\n",
       "\t<tr><td>Montana      </td><td>0.708812261</td></tr>\n",
       "\t<tr><td>Vermont      </td><td>0.683431953</td></tr>\n",
       "\t<tr><td>Missouri     </td><td>0.680000000</td></tr>\n",
       "\t<tr><td>Utah         </td><td>0.679933665</td></tr>\n",
       "\t<tr><td>Texas        </td><td>0.626387176</td></tr>\n",
       "\t<tr><td>Colorado     </td><td>0.623092236</td></tr>\n",
       "\t<tr><td>Oregon       </td><td>0.593052109</td></tr>\n",
       "\t<tr><td>Arizona      </td><td>0.506404782</td></tr>\n",
       "\t<tr><td>Ohio         </td><td>0.491606715</td></tr>\n",
       "\t<tr><td>Minnesota    </td><td>0.473948525</td></tr>\n",
       "\t<tr><td>Maine        </td><td>0.473389356</td></tr>\n",
       "\t<tr><td>North Dakota </td><td>0.455555556</td></tr>\n",
       "\t<tr><td>Washington   </td><td>0.326592518</td></tr>\n",
       "\t<tr><td>Arkansas     </td><td>0.003527337</td></tr>\n",
       "</tbody>\n",
       "</table>\n"
      ],
      "text/latex": [
       "A tibble: 21 × 2\n",
       "\\begin{tabular}{ll}\n",
       " state & state\\_rate\\\\\n",
       " <chr> & <dbl>\\\\\n",
       "\\hline\n",
       "\t Illinois      & 0.896825397\\\\\n",
       "\t California    & 0.888506151\\\\\n",
       "\t Massachusetts & 0.865828092\\\\\n",
       "\t New York      & 0.859822073\\\\\n",
       "\t Pennsylvania  & 0.834966478\\\\\n",
       "\t Connecticut   & 0.811544992\\\\\n",
       "\t South Dakota  & 0.742627346\\\\\n",
       "\t Montana       & 0.708812261\\\\\n",
       "\t Vermont       & 0.683431953\\\\\n",
       "\t Missouri      & 0.680000000\\\\\n",
       "\t Utah          & 0.679933665\\\\\n",
       "\t Texas         & 0.626387176\\\\\n",
       "\t Colorado      & 0.623092236\\\\\n",
       "\t Oregon        & 0.593052109\\\\\n",
       "\t Arizona       & 0.506404782\\\\\n",
       "\t Ohio          & 0.491606715\\\\\n",
       "\t Minnesota     & 0.473948525\\\\\n",
       "\t Maine         & 0.473389356\\\\\n",
       "\t North Dakota  & 0.455555556\\\\\n",
       "\t Washington    & 0.326592518\\\\\n",
       "\t Arkansas      & 0.003527337\\\\\n",
       "\\end{tabular}\n"
      ],
      "text/markdown": [
       "\n",
       "A tibble: 21 × 2\n",
       "\n",
       "| state &lt;chr&gt; | state_rate &lt;dbl&gt; |\n",
       "|---|---|\n",
       "| Illinois      | 0.896825397 |\n",
       "| California    | 0.888506151 |\n",
       "| Massachusetts | 0.865828092 |\n",
       "| New York      | 0.859822073 |\n",
       "| Pennsylvania  | 0.834966478 |\n",
       "| Connecticut   | 0.811544992 |\n",
       "| South Dakota  | 0.742627346 |\n",
       "| Montana       | 0.708812261 |\n",
       "| Vermont       | 0.683431953 |\n",
       "| Missouri      | 0.680000000 |\n",
       "| Utah          | 0.679933665 |\n",
       "| Texas         | 0.626387176 |\n",
       "| Colorado      | 0.623092236 |\n",
       "| Oregon        | 0.593052109 |\n",
       "| Arizona       | 0.506404782 |\n",
       "| Ohio          | 0.491606715 |\n",
       "| Minnesota     | 0.473948525 |\n",
       "| Maine         | 0.473389356 |\n",
       "| North Dakota  | 0.455555556 |\n",
       "| Washington    | 0.326592518 |\n",
       "| Arkansas      | 0.003527337 |\n",
       "\n"
      ],
      "text/plain": [
       "   state         state_rate \n",
       "1  Illinois      0.896825397\n",
       "2  California    0.888506151\n",
       "3  Massachusetts 0.865828092\n",
       "4  New York      0.859822073\n",
       "5  Pennsylvania  0.834966478\n",
       "6  Connecticut   0.811544992\n",
       "7  South Dakota  0.742627346\n",
       "8  Montana       0.708812261\n",
       "9  Vermont       0.683431953\n",
       "10 Missouri      0.680000000\n",
       "11 Utah          0.679933665\n",
       "12 Texas         0.626387176\n",
       "13 Colorado      0.623092236\n",
       "14 Oregon        0.593052109\n",
       "15 Arizona       0.506404782\n",
       "16 Ohio          0.491606715\n",
       "17 Minnesota     0.473948525\n",
       "18 Maine         0.473389356\n",
       "19 North Dakota  0.455555556\n",
       "20 Washington    0.326592518\n",
       "21 Arkansas      0.003527337"
      ]
     },
     "metadata": {},
     "output_type": "display_data"
    }
   ],
   "source": [
    "df_vacc_rates |>\n",
    "    group_by(state) |>\n",
    "    summarize(state_rate = min(fraction)) |>\n",
    "    arrange(desc(state_rate))"
   ]
  },
  {
   "cell_type": "markdown",
   "id": "4263ed12-e9c6-40f7-9d89-4cd0fddfef54",
   "metadata": {},
   "source": [
    "### Arkansas has the smallest fraction of schools above the 95% CDC vaccination rate recommendation."
   ]
  },
  {
   "cell_type": "markdown",
   "id": "2866ca03-1f87-466e-ab0a-dd69140496e6",
   "metadata": {},
   "source": [
    "**Make a ECDF plot of the school vaccination rates in North Carolina.** Use the `overall` column which reports the \"overall\" vaccination rate at each school.\n",
    "\n",
    "❗️Remember, you can calculate the `y` value for ECDF charts using `row_number`, `mutate`, and `arrange`."
   ]
  },
  {
   "cell_type": "code",
   "execution_count": 67,
   "id": "478c5949-b5cb-4a4c-9915-6201427248c1",
   "metadata": {},
   "outputs": [
    {
     "data": {
      "text/html": [
       "<table class=\"dataframe\">\n",
       "<caption>A data.frame: 6 × 18</caption>\n",
       "<thead>\n",
       "\t<tr><th></th><th scope=col>index</th><th scope=col>state</th><th scope=col>year</th><th scope=col>name</th><th scope=col>type</th><th scope=col>city</th><th scope=col>county</th><th scope=col>district</th><th scope=col>enroll</th><th scope=col>mmr</th><th scope=col>overall</th><th scope=col>xrel</th><th scope=col>xmed</th><th scope=col>xper</th><th scope=col>lat</th><th scope=col>lng</th><th scope=col>goal</th><th scope=col>nc_fraction</th></tr>\n",
       "\t<tr><th></th><th scope=col>&lt;dbl&gt;</th><th scope=col>&lt;chr&gt;</th><th scope=col>&lt;chr&gt;</th><th scope=col>&lt;chr&gt;</th><th scope=col>&lt;chr&gt;</th><th scope=col>&lt;chr&gt;</th><th scope=col>&lt;chr&gt;</th><th scope=col>&lt;lgl&gt;</th><th scope=col>&lt;dbl&gt;</th><th scope=col>&lt;dbl&gt;</th><th scope=col>&lt;dbl&gt;</th><th scope=col>&lt;lgl&gt;</th><th scope=col>&lt;dbl&gt;</th><th scope=col>&lt;dbl&gt;</th><th scope=col>&lt;dbl&gt;</th><th scope=col>&lt;dbl&gt;</th><th scope=col>&lt;int&gt;</th><th scope=col>&lt;dbl&gt;</th></tr>\n",
       "</thead>\n",
       "<tbody>\n",
       "\t<tr><th scope=row>1</th><td>1</td><td>North Carolina</td><td>2018-19</td><td>A T Allen Elementary                 </td><td>NA</td><td>NA</td><td>Cabarrus</td><td>NA</td><td>132</td><td>-1</td><td>100</td><td>NA</td><td>NA</td><td>NA</td><td>35.36238</td><td>-80.51297</td><td>1771</td><td>0.8498081</td></tr>\n",
       "\t<tr><th scope=row>2</th><td>2</td><td>North Carolina</td><td>2018-19</td><td>A.C.E. Academy                       </td><td>NA</td><td>NA</td><td>Cabarrus</td><td>NA</td><td> 44</td><td>-1</td><td>100</td><td>NA</td><td>NA</td><td>NA</td><td>35.30806</td><td>-80.67281</td><td>1771</td><td>0.8498081</td></tr>\n",
       "\t<tr><th scope=row>3</th><td>3</td><td>North Carolina</td><td>2018-19</td><td>ABC of NC Child Develop. Ctr         </td><td>NA</td><td>NA</td><td>Davidson</td><td>NA</td><td>  1</td><td>-1</td><td>100</td><td>NA</td><td>NA</td><td>NA</td><td>35.99481</td><td>-80.27403</td><td>1771</td><td>0.8498081</td></tr>\n",
       "\t<tr><th scope=row>4</th><td>4</td><td>North Carolina</td><td>2018-19</td><td>Agape Christian                      </td><td>NA</td><td>NA</td><td>Ashe    </td><td>NA</td><td>  3</td><td>-1</td><td>100</td><td>NA</td><td>NA</td><td>NA</td><td>36.42064</td><td>-81.48704</td><td>1771</td><td>0.8498081</td></tr>\n",
       "\t<tr><th scope=row>5</th><td>5</td><td>North Carolina</td><td>2018-19</td><td>Agape International Christian Academy</td><td>NA</td><td>NA</td><td>Franklin</td><td>NA</td><td>  1</td><td>-1</td><td>100</td><td>NA</td><td>NA</td><td>NA</td><td>36.03484</td><td>-78.49820</td><td>1771</td><td>0.8498081</td></tr>\n",
       "\t<tr><th scope=row>6</th><td>6</td><td>North Carolina</td><td>2018-19</td><td>Ahoskie Christian                    </td><td>NA</td><td>NA</td><td>Hertford</td><td>NA</td><td> 32</td><td>-1</td><td>100</td><td>NA</td><td>NA</td><td>NA</td><td>36.27857</td><td>-76.97674</td><td>1771</td><td>0.8498081</td></tr>\n",
       "</tbody>\n",
       "</table>\n"
      ],
      "text/latex": [
       "A data.frame: 6 × 18\n",
       "\\begin{tabular}{r|llllllllllllllllll}\n",
       "  & index & state & year & name & type & city & county & district & enroll & mmr & overall & xrel & xmed & xper & lat & lng & goal & nc\\_fraction\\\\\n",
       "  & <dbl> & <chr> & <chr> & <chr> & <chr> & <chr> & <chr> & <lgl> & <dbl> & <dbl> & <dbl> & <lgl> & <dbl> & <dbl> & <dbl> & <dbl> & <int> & <dbl>\\\\\n",
       "\\hline\n",
       "\t1 & 1 & North Carolina & 2018-19 & A T Allen Elementary                  & NA & NA & Cabarrus & NA & 132 & -1 & 100 & NA & NA & NA & 35.36238 & -80.51297 & 1771 & 0.8498081\\\\\n",
       "\t2 & 2 & North Carolina & 2018-19 & A.C.E. Academy                        & NA & NA & Cabarrus & NA &  44 & -1 & 100 & NA & NA & NA & 35.30806 & -80.67281 & 1771 & 0.8498081\\\\\n",
       "\t3 & 3 & North Carolina & 2018-19 & ABC of NC Child Develop. Ctr          & NA & NA & Davidson & NA &   1 & -1 & 100 & NA & NA & NA & 35.99481 & -80.27403 & 1771 & 0.8498081\\\\\n",
       "\t4 & 4 & North Carolina & 2018-19 & Agape Christian                       & NA & NA & Ashe     & NA &   3 & -1 & 100 & NA & NA & NA & 36.42064 & -81.48704 & 1771 & 0.8498081\\\\\n",
       "\t5 & 5 & North Carolina & 2018-19 & Agape International Christian Academy & NA & NA & Franklin & NA &   1 & -1 & 100 & NA & NA & NA & 36.03484 & -78.49820 & 1771 & 0.8498081\\\\\n",
       "\t6 & 6 & North Carolina & 2018-19 & Ahoskie Christian                     & NA & NA & Hertford & NA &  32 & -1 & 100 & NA & NA & NA & 36.27857 & -76.97674 & 1771 & 0.8498081\\\\\n",
       "\\end{tabular}\n"
      ],
      "text/markdown": [
       "\n",
       "A data.frame: 6 × 18\n",
       "\n",
       "| <!--/--> | index &lt;dbl&gt; | state &lt;chr&gt; | year &lt;chr&gt; | name &lt;chr&gt; | type &lt;chr&gt; | city &lt;chr&gt; | county &lt;chr&gt; | district &lt;lgl&gt; | enroll &lt;dbl&gt; | mmr &lt;dbl&gt; | overall &lt;dbl&gt; | xrel &lt;lgl&gt; | xmed &lt;dbl&gt; | xper &lt;dbl&gt; | lat &lt;dbl&gt; | lng &lt;dbl&gt; | goal &lt;int&gt; | nc_fraction &lt;dbl&gt; |\n",
       "|---|---|---|---|---|---|---|---|---|---|---|---|---|---|---|---|---|---|---|\n",
       "| 1 | 1 | North Carolina | 2018-19 | A T Allen Elementary                  | NA | NA | Cabarrus | NA | 132 | -1 | 100 | NA | NA | NA | 35.36238 | -80.51297 | 1771 | 0.8498081 |\n",
       "| 2 | 2 | North Carolina | 2018-19 | A.C.E. Academy                        | NA | NA | Cabarrus | NA |  44 | -1 | 100 | NA | NA | NA | 35.30806 | -80.67281 | 1771 | 0.8498081 |\n",
       "| 3 | 3 | North Carolina | 2018-19 | ABC of NC Child Develop. Ctr          | NA | NA | Davidson | NA |   1 | -1 | 100 | NA | NA | NA | 35.99481 | -80.27403 | 1771 | 0.8498081 |\n",
       "| 4 | 4 | North Carolina | 2018-19 | Agape Christian                       | NA | NA | Ashe     | NA |   3 | -1 | 100 | NA | NA | NA | 36.42064 | -81.48704 | 1771 | 0.8498081 |\n",
       "| 5 | 5 | North Carolina | 2018-19 | Agape International Christian Academy | NA | NA | Franklin | NA |   1 | -1 | 100 | NA | NA | NA | 36.03484 | -78.49820 | 1771 | 0.8498081 |\n",
       "| 6 | 6 | North Carolina | 2018-19 | Ahoskie Christian                     | NA | NA | Hertford | NA |  32 | -1 | 100 | NA | NA | NA | 36.27857 | -76.97674 | 1771 | 0.8498081 |\n",
       "\n"
      ],
      "text/plain": [
       "  index state          year    name                                  type city\n",
       "1 1     North Carolina 2018-19 A T Allen Elementary                  NA   NA  \n",
       "2 2     North Carolina 2018-19 A.C.E. Academy                        NA   NA  \n",
       "3 3     North Carolina 2018-19 ABC of NC Child Develop. Ctr          NA   NA  \n",
       "4 4     North Carolina 2018-19 Agape Christian                       NA   NA  \n",
       "5 5     North Carolina 2018-19 Agape International Christian Academy NA   NA  \n",
       "6 6     North Carolina 2018-19 Ahoskie Christian                     NA   NA  \n",
       "  county   district enroll mmr overall xrel xmed xper lat      lng       goal\n",
       "1 Cabarrus NA       132    -1  100     NA   NA   NA   35.36238 -80.51297 1771\n",
       "2 Cabarrus NA        44    -1  100     NA   NA   NA   35.30806 -80.67281 1771\n",
       "3 Davidson NA         1    -1  100     NA   NA   NA   35.99481 -80.27403 1771\n",
       "4 Ashe     NA         3    -1  100     NA   NA   NA   36.42064 -81.48704 1771\n",
       "5 Franklin NA         1    -1  100     NA   NA   NA   36.03484 -78.49820 1771\n",
       "6 Hertford NA        32    -1  100     NA   NA   NA   36.27857 -76.97674 1771\n",
       "  nc_fraction\n",
       "1 0.8498081  \n",
       "2 0.8498081  \n",
       "3 0.8498081  \n",
       "4 0.8498081  \n",
       "5 0.8498081  \n",
       "6 0.8498081  "
      ]
     },
     "metadata": {},
     "output_type": "display_data"
    }
   ],
   "source": [
    "nc_vax_rates = data.frame(vax) |>\n",
    "    filter(overall >= 0) |>\n",
    "    filter(state == \"North Carolina\") |>\n",
    "    mutate(goal = sum(overall >= 95, na.rm = TRUE)) |>\n",
    "    mutate(nc_fraction = goal / n())\n",
    "\n",
    "head(nc_vax_rates)"
   ]
  },
  {
   "cell_type": "code",
   "execution_count": 68,
   "id": "1c848c42-fa57-4ddb-aedf-c4e61bca4929",
   "metadata": {
    "tags": []
   },
   "outputs": [
    {
     "data": {
      "image/png": "[encoded data removed]",
      "text/plain": [
       "plot without title"
      ]
     },
     "metadata": {
      "image/png": {
       "height": 420,
       "width": 420
      }
     },
     "output_type": "display_data"
    }
   ],
   "source": [
    "nc_rates_p = ggplot(nc_vax_rates, aes(x = overall, y = nc_fraction)) + stat_ecdf() + \n",
    "    labs(x = \"Vaccination Rate (%)\", y = \"Fraction of Schools\", title = \"NC School Vaccination Rates\") + \n",
    "    geom_vline(xintercept = 95, color = 'blue')\n",
    "nc_rates_p"
   ]
  },
  {
   "cell_type": "markdown",
   "id": "8f5ea83f-c904-46ee-9f52-af1bd1afbc96",
   "metadata": {},
   "source": [
    "(My solution is below if you want to peek 👀. Uncomment the code, change the cell to `markdown`, and exectute it.)"
   ]
  },
  {
   "cell_type": "markdown",
   "id": "28c8ae2d-23a9-4773-9ce3-c0b50ca6ef8d",
   "metadata": {},
   "source": [
    "![](https://github.com/chuckpr/BIOS512/blob/main/assignments/measles-chart.png?raw=true)"
   ]
  },
  {
   "cell_type": "markdown",
   "id": "d2041941-dcee-42e8-957f-a725dc36388f",
   "metadata": {},
   "source": [
    "Is the median vaccination rate for NC schools above the CDC recommended target?"
   ]
  },
  {
   "cell_type": "code",
   "execution_count": 69,
   "id": "be2ea536-f8ed-486d-b6e3-9853ac2b01d0",
   "metadata": {},
   "outputs": [
    {
     "data": {
      "text/html": [
       "<table class=\"dataframe\">\n",
       "<caption>A data.frame: 6 × 17</caption>\n",
       "<thead>\n",
       "\t<tr><th></th><th scope=col>index</th><th scope=col>state</th><th scope=col>year</th><th scope=col>name</th><th scope=col>type</th><th scope=col>city</th><th scope=col>county</th><th scope=col>district</th><th scope=col>enroll</th><th scope=col>mmr</th><th scope=col>overall</th><th scope=col>xrel</th><th scope=col>xmed</th><th scope=col>xper</th><th scope=col>lat</th><th scope=col>lng</th><th scope=col>median_rate</th></tr>\n",
       "\t<tr><th></th><th scope=col>&lt;dbl&gt;</th><th scope=col>&lt;chr&gt;</th><th scope=col>&lt;chr&gt;</th><th scope=col>&lt;chr&gt;</th><th scope=col>&lt;chr&gt;</th><th scope=col>&lt;chr&gt;</th><th scope=col>&lt;chr&gt;</th><th scope=col>&lt;lgl&gt;</th><th scope=col>&lt;dbl&gt;</th><th scope=col>&lt;dbl&gt;</th><th scope=col>&lt;dbl&gt;</th><th scope=col>&lt;lgl&gt;</th><th scope=col>&lt;dbl&gt;</th><th scope=col>&lt;dbl&gt;</th><th scope=col>&lt;dbl&gt;</th><th scope=col>&lt;dbl&gt;</th><th scope=col>&lt;dbl&gt;</th></tr>\n",
       "</thead>\n",
       "<tbody>\n",
       "\t<tr><th scope=row>1</th><td>1</td><td>North Carolina</td><td>2018-19</td><td>A T Allen Elementary                 </td><td>NA</td><td>NA</td><td>Cabarrus</td><td>NA</td><td>132</td><td>-1</td><td>100</td><td>NA</td><td>NA</td><td>NA</td><td>35.36238</td><td>-80.51297</td><td>100</td></tr>\n",
       "\t<tr><th scope=row>2</th><td>2</td><td>North Carolina</td><td>2018-19</td><td>A.C.E. Academy                       </td><td>NA</td><td>NA</td><td>Cabarrus</td><td>NA</td><td> 44</td><td>-1</td><td>100</td><td>NA</td><td>NA</td><td>NA</td><td>35.30806</td><td>-80.67281</td><td>100</td></tr>\n",
       "\t<tr><th scope=row>3</th><td>3</td><td>North Carolina</td><td>2018-19</td><td>ABC of NC Child Develop. Ctr         </td><td>NA</td><td>NA</td><td>Davidson</td><td>NA</td><td>  1</td><td>-1</td><td>100</td><td>NA</td><td>NA</td><td>NA</td><td>35.99481</td><td>-80.27403</td><td>100</td></tr>\n",
       "\t<tr><th scope=row>4</th><td>4</td><td>North Carolina</td><td>2018-19</td><td>Agape Christian                      </td><td>NA</td><td>NA</td><td>Ashe    </td><td>NA</td><td>  3</td><td>-1</td><td>100</td><td>NA</td><td>NA</td><td>NA</td><td>36.42064</td><td>-81.48704</td><td>100</td></tr>\n",
       "\t<tr><th scope=row>5</th><td>5</td><td>North Carolina</td><td>2018-19</td><td>Agape International Christian Academy</td><td>NA</td><td>NA</td><td>Franklin</td><td>NA</td><td>  1</td><td>-1</td><td>100</td><td>NA</td><td>NA</td><td>NA</td><td>36.03484</td><td>-78.49820</td><td>100</td></tr>\n",
       "\t<tr><th scope=row>6</th><td>6</td><td>North Carolina</td><td>2018-19</td><td>Ahoskie Christian                    </td><td>NA</td><td>NA</td><td>Hertford</td><td>NA</td><td> 32</td><td>-1</td><td>100</td><td>NA</td><td>NA</td><td>NA</td><td>36.27857</td><td>-76.97674</td><td>100</td></tr>\n",
       "</tbody>\n",
       "</table>\n"
      ],
      "text/latex": [
       "A data.frame: 6 × 17\n",
       "\\begin{tabular}{r|lllllllllllllllll}\n",
       "  & index & state & year & name & type & city & county & district & enroll & mmr & overall & xrel & xmed & xper & lat & lng & median\\_rate\\\\\n",
       "  & <dbl> & <chr> & <chr> & <chr> & <chr> & <chr> & <chr> & <lgl> & <dbl> & <dbl> & <dbl> & <lgl> & <dbl> & <dbl> & <dbl> & <dbl> & <dbl>\\\\\n",
       "\\hline\n",
       "\t1 & 1 & North Carolina & 2018-19 & A T Allen Elementary                  & NA & NA & Cabarrus & NA & 132 & -1 & 100 & NA & NA & NA & 35.36238 & -80.51297 & 100\\\\\n",
       "\t2 & 2 & North Carolina & 2018-19 & A.C.E. Academy                        & NA & NA & Cabarrus & NA &  44 & -1 & 100 & NA & NA & NA & 35.30806 & -80.67281 & 100\\\\\n",
       "\t3 & 3 & North Carolina & 2018-19 & ABC of NC Child Develop. Ctr          & NA & NA & Davidson & NA &   1 & -1 & 100 & NA & NA & NA & 35.99481 & -80.27403 & 100\\\\\n",
       "\t4 & 4 & North Carolina & 2018-19 & Agape Christian                       & NA & NA & Ashe     & NA &   3 & -1 & 100 & NA & NA & NA & 36.42064 & -81.48704 & 100\\\\\n",
       "\t5 & 5 & North Carolina & 2018-19 & Agape International Christian Academy & NA & NA & Franklin & NA &   1 & -1 & 100 & NA & NA & NA & 36.03484 & -78.49820 & 100\\\\\n",
       "\t6 & 6 & North Carolina & 2018-19 & Ahoskie Christian                     & NA & NA & Hertford & NA &  32 & -1 & 100 & NA & NA & NA & 36.27857 & -76.97674 & 100\\\\\n",
       "\\end{tabular}\n"
      ],
      "text/markdown": [
       "\n",
       "A data.frame: 6 × 17\n",
       "\n",
       "| <!--/--> | index &lt;dbl&gt; | state &lt;chr&gt; | year &lt;chr&gt; | name &lt;chr&gt; | type &lt;chr&gt; | city &lt;chr&gt; | county &lt;chr&gt; | district &lt;lgl&gt; | enroll &lt;dbl&gt; | mmr &lt;dbl&gt; | overall &lt;dbl&gt; | xrel &lt;lgl&gt; | xmed &lt;dbl&gt; | xper &lt;dbl&gt; | lat &lt;dbl&gt; | lng &lt;dbl&gt; | median_rate &lt;dbl&gt; |\n",
       "|---|---|---|---|---|---|---|---|---|---|---|---|---|---|---|---|---|---|\n",
       "| 1 | 1 | North Carolina | 2018-19 | A T Allen Elementary                  | NA | NA | Cabarrus | NA | 132 | -1 | 100 | NA | NA | NA | 35.36238 | -80.51297 | 100 |\n",
       "| 2 | 2 | North Carolina | 2018-19 | A.C.E. Academy                        | NA | NA | Cabarrus | NA |  44 | -1 | 100 | NA | NA | NA | 35.30806 | -80.67281 | 100 |\n",
       "| 3 | 3 | North Carolina | 2018-19 | ABC of NC Child Develop. Ctr          | NA | NA | Davidson | NA |   1 | -1 | 100 | NA | NA | NA | 35.99481 | -80.27403 | 100 |\n",
       "| 4 | 4 | North Carolina | 2018-19 | Agape Christian                       | NA | NA | Ashe     | NA |   3 | -1 | 100 | NA | NA | NA | 36.42064 | -81.48704 | 100 |\n",
       "| 5 | 5 | North Carolina | 2018-19 | Agape International Christian Academy | NA | NA | Franklin | NA |   1 | -1 | 100 | NA | NA | NA | 36.03484 | -78.49820 | 100 |\n",
       "| 6 | 6 | North Carolina | 2018-19 | Ahoskie Christian                     | NA | NA | Hertford | NA |  32 | -1 | 100 | NA | NA | NA | 36.27857 | -76.97674 | 100 |\n",
       "\n"
      ],
      "text/plain": [
       "  index state          year    name                                  type city\n",
       "1 1     North Carolina 2018-19 A T Allen Elementary                  NA   NA  \n",
       "2 2     North Carolina 2018-19 A.C.E. Academy                        NA   NA  \n",
       "3 3     North Carolina 2018-19 ABC of NC Child Develop. Ctr          NA   NA  \n",
       "4 4     North Carolina 2018-19 Agape Christian                       NA   NA  \n",
       "5 5     North Carolina 2018-19 Agape International Christian Academy NA   NA  \n",
       "6 6     North Carolina 2018-19 Ahoskie Christian                     NA   NA  \n",
       "  county   district enroll mmr overall xrel xmed xper lat      lng      \n",
       "1 Cabarrus NA       132    -1  100     NA   NA   NA   35.36238 -80.51297\n",
       "2 Cabarrus NA        44    -1  100     NA   NA   NA   35.30806 -80.67281\n",
       "3 Davidson NA         1    -1  100     NA   NA   NA   35.99481 -80.27403\n",
       "4 Ashe     NA         3    -1  100     NA   NA   NA   36.42064 -81.48704\n",
       "5 Franklin NA         1    -1  100     NA   NA   NA   36.03484 -78.49820\n",
       "6 Hertford NA        32    -1  100     NA   NA   NA   36.27857 -76.97674\n",
       "  median_rate\n",
       "1 100        \n",
       "2 100        \n",
       "3 100        \n",
       "4 100        \n",
       "5 100        \n",
       "6 100        "
      ]
     },
     "metadata": {},
     "output_type": "display_data"
    }
   ],
   "source": [
    "nc_vax_rates = data.frame(vax) |>\n",
    "    filter(overall >= 0) |>\n",
    "    filter(state == \"North Carolina\") |>\n",
    "    mutate(median_rate = median(overall, na.rm = TRUE))\n",
    "    #mutate(median_rate = mean(overall, na.rm = TRUE))\n",
    "    #mutate(median_rate = min(overall, na.rm = TRUE))\n",
    "\n",
    "nc_vax_rates |> head()"
   ]
  },
  {
   "cell_type": "markdown",
   "id": "e917173c-d942-4a56-b458-cadb6589d9b1",
   "metadata": {},
   "source": [
    "### Yes, the median vaccination rate for NC is above the CDC 95% target."
   ]
  }
 ],
 "metadata": {
  "kernelspec": {
   "display_name": "bios512:R",
   "language": "R",
   "name": "conda-env-bios512-r"
  },
  "language_info": {
   "codemirror_mode": "r",
   "file_extension": ".r",
   "mimetype": "text/x-r-source",
   "name": "R",
   "pygments_lexer": "r",
   "version": "4.3.1"
  }
 },
 "nbformat": 4,
 "nbformat_minor": 5
}
